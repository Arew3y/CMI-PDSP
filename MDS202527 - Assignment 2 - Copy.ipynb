{
 "cells": [
  {
   "metadata": {
    "ExecuteTime": {
     "end_time": "2025-10-13T06:21:56.551535Z",
     "start_time": "2025-10-13T06:21:56.537450Z"
    }
   },
   "cell_type": "code",
   "source": [
    "class Polynomial:\n",
    "    def __init__(self, poly_list=None):\n",
    "        poly_list = poly_list or [] # Empty list handling\n",
    "        self.poly_list = poly_list\n",
    "        self.poly_dict = {} # Creating a dictionary to store the exponent : coefficient\n",
    "        if poly_list != []: # Exception handling for empty list\n",
    "            # Adding elements to the poly_dict\n",
    "            for elem in poly_list:\n",
    "                if elem[1] in self.poly_dict:\n",
    "                    self.poly_dict[elem[1]] = self.poly_dict[elem[1]] + elem[0]\n",
    "                else:\n",
    "                    if elem[0] != 0:\n",
    "                        self.poly_dict[elem[1]] = elem[0]\n",
    "        self.rmv_empty() # Removing any empty elements\n",
    "        self.key_list = sorted(self.poly_dict.keys())[::-1] # Sorting the keylist to show the higher exponents first\n",
    "        #\n",
    "    def iszero(self): # Zero polynomial check by checking empty dict\n",
    "        return self.poly_dict == {}\n",
    "        #\n",
    "    def rmv_empty(self): # Removing elements with coefficient 0\n",
    "        temp_poly_dict = dict(self.poly_dict) # Working on a copy while deleting from the original\n",
    "        for elem in temp_poly_dict:\n",
    "            if temp_poly_dict[elem] == 0:\n",
    "                del self.poly_dict[elem] # Erasing entries where coefficient became 0\n",
    "        #\n",
    "    def __add__(self, q):\n",
    "        new_poly = Polynomial([]) # Making a polynomial to hold the sum\n",
    "        new_poly.poly_dict = dict(self.poly_dict) # Adding the first polynomial to the sum polynomial\n",
    "        for expo in q.poly_dict: # Adding all the elements of the second elements in the sum polynomial\n",
    "            if expo in new_poly.poly_dict:\n",
    "                new_poly.poly_dict[expo] = new_poly.poly_dict[expo] + q.poly_dict[expo]\n",
    "            else:\n",
    "                new_poly.poly_dict[expo] = q.poly_dict[expo]\n",
    "        new_poly.rmv_empty() # Cleaning the new sum polynomial\n",
    "        new_poly.key_list = sorted(new_poly.poly_dict.keys())[::-1] # Filling the sum polynomial key_list\n",
    "        return new_poly # Returning the result polynomial\n",
    "        #\n",
    "    def __sub__(self, q):\n",
    "        new_poly = Polynomial([]) # Making a polynomial to hold the subtraction\n",
    "        new_poly.poly_dict = dict(self.poly_dict) # Adding the first polynomial to the sub polynomial\n",
    "        for expo in q.poly_dict: # Subtracting all the elements of the second elements in the sub polynomial\n",
    "            if expo in new_poly.poly_dict:\n",
    "                new_poly.poly_dict[expo] = new_poly.poly_dict[expo] - q.poly_dict[expo]\n",
    "            else:\n",
    "                new_poly.poly_dict[expo] = -q.poly_dict[expo]\n",
    "        new_poly.rmv_empty() # Cleaning the new sub polynomial\n",
    "        new_poly.key_list = sorted(new_poly.poly_dict.keys())[::-1] # Filling the sub polynomial key_list\n",
    "        return new_poly # Returning the result polynomial\n",
    "        #\n",
    "    def __mul__(self, q):\n",
    "        new_poly = Polynomial([]) # Making a polynomial to hold the multiplication\n",
    "        for expo1 in q.poly_dict: # Looping over terms of the right side polynomial\n",
    "            for expo2 in self.poly_dict: # Looping over terms of the left side polynomial\n",
    "                if expo1 + expo2 in new_poly.poly_dict: # Adding the elements the mult poly dictionary\n",
    "                    new_poly.poly_dict[expo1 + expo2] = new_poly.poly_dict[expo2 + expo1] + (self.poly_dict[expo2] * q.poly_dict[expo1]) # Combining like exponents by summing products\n",
    "                else:\n",
    "                    new_poly.poly_dict[expo1 + expo2] = self.poly_dict[expo2] * q.poly_dict[expo1] # First product for this exponent\n",
    "        new_poly.rmv_empty() # Cleaning the new mult polynomial\n",
    "        new_poly.key_list = sorted(new_poly.poly_dict.keys())[::-1] # Filling the mult polynomial key_list\n",
    "        return new_poly # Returning the result polynomial\n",
    "        #\n",
    "    def __neg__(self):\n",
    "        n = len(self.poly_list)\n",
    "        new_poly_list = []\n",
    "        for i in range(n):\n",
    "            new_poly_list.append([-self.poly_list[i][0],self.poly_list[i][1]])\n",
    "        return Polynomial(new_poly_list)\n",
    "        #\n",
    "    def __lt__(self, q):\n",
    "        # Making copy of the dict and keylist\n",
    "        self_poly_dict = self.poly_dict.copy()\n",
    "        self_key_list = sorted(self.poly_dict.keys())[::-1]\n",
    "        q_poly_dict = q.poly_dict.copy()\n",
    "        q_key_list = sorted(q.poly_dict.keys())[::-1]\n",
    "\n",
    "        # Handling zero polynomials\n",
    "        if self_poly_dict == {}:\n",
    "            self_poly_dict[0] = 0 # Represent zero with exponent 0 for comparison use\n",
    "            self_key_list = sorted(self_poly_dict.keys())[::-1]\n",
    "        if q_poly_dict == {}:\n",
    "            q_poly_dict[0] = 0 # Same handling for the other polynomial\n",
    "            q_key_list = sorted(q_poly_dict.keys())[::-1]\n",
    "\n",
    "        # Defining Minimum length for the range check\n",
    "        min_len = min(len(self_key_list), len(q_key_list)) # Compare up to the shorter length\n",
    "\n",
    "        for i in range(min_len):\n",
    "            key1 = self_key_list[i] # Current highest remaining exponent of self\n",
    "            key2 = q_key_list[i] # Current highest remaining exponent of q\n",
    "            if key1 < key2:\n",
    "                return True # Smaller leading exponent means less\n",
    "            if key2 < key1:\n",
    "                return False # Larger leading exponent on self means greater\n",
    "            if key1 == key2:\n",
    "                pval = self_poly_dict[key1] # Coefficient for this exponent in self\n",
    "                qval = q_poly_dict[key2] # Coefficient for this exponent in q\n",
    "                if pval < qval:\n",
    "                    return True # Same exponent so compare coefficients\n",
    "                elif pval > qval:\n",
    "                    return False # Coefficient is larger so not less\n",
    "                else:\n",
    "                    continue # Move to next term when both match\n",
    "        if len(self_key_list) < len(q_key_list):\n",
    "            return True\n",
    "        return False # No deciding difference found so treat as not less\n",
    "        #\n",
    "    def __le__(self, q):\n",
    "        # Making copy of the dict and keylist\n",
    "        self_poly_dict = self.poly_dict.copy()\n",
    "        self_key_list = sorted(self.poly_dict.keys())[::-1]\n",
    "        q_poly_dict = q.poly_dict.copy()\n",
    "        q_key_list = sorted(q.poly_dict.keys())[::-1]\n",
    "\n",
    "        # Handling zero polynomials\n",
    "        if self_poly_dict == {}:\n",
    "            self_poly_dict[0] = 0 # Represent zero with exponent 0 for comparison use\n",
    "            self_key_list = sorted(self_poly_dict.keys())[::-1]\n",
    "        if q_poly_dict == {}:\n",
    "            q_poly_dict[0] = 0 # Same handling for the other polynomial\n",
    "            q_key_list = sorted(q_poly_dict.keys())[::-1]\n",
    "\n",
    "        min_len = min(len(self_key_list), len(q_key_list)) # Compare terms up to shared length\n",
    "\n",
    "        for i in range(min_len):\n",
    "            key1 = self_key_list[i] # Current exponent in self\n",
    "            key2 = q_key_list[i] # Current exponent in q\n",
    "            if key1 < key2:\n",
    "                return True # Self has smaller highest exponent so less or equal\n",
    "            if key2 < key1:\n",
    "                return False # Self has larger highest exponent so not less or equal\n",
    "            if key1 == key2:\n",
    "                pval = self_poly_dict[key1] # Coefficient in self\n",
    "                qval = q_poly_dict[key2] # Coefficient in q\n",
    "                if pval < qval:\n",
    "                    return True # Lesser coefficient makes it less or equal\n",
    "                elif pval > qval:\n",
    "                    return False # Greater coefficient makes it greater\n",
    "                else:\n",
    "                    continue # Move to next term if equal at this exponent\n",
    "        if len(self_key_list) > len(q_key_list):\n",
    "            return False\n",
    "        return True # All compared parts did not violate the relation so less or equal\n",
    "        #\n",
    "    def __ge__(self, q):\n",
    "        return q.__le__(self) # Greater or equal by swapping the operands\n",
    "        #\n",
    "    def __gt__(self, q):\n",
    "        return q.__lt__(self) # Greater than by reusing less than on swapped operands\n",
    "        #\n",
    "    def __eq__(self, q):\n",
    "        for key1 in self.key_list: # Every exponent in self must be present in q\n",
    "            if key1 not in q.key_list:\n",
    "                return False # Missing exponent means not equal\n",
    "            else:\n",
    "                if q.poly_dict[key1] != self.poly_dict[key1]:\n",
    "                    return False # Different coefficient means not equal\n",
    "        for key2 in q.key_list: # Every exponent in q must be present in self\n",
    "            if key2 not in self.key_list:\n",
    "                return False # Missing exponent means not equal\n",
    "            else:\n",
    "                if self.poly_dict[key2] != q.poly_dict[key2]:\n",
    "                    return False # Different coefficient means not equal\n",
    "        return True # All exponents and coefficients match\n",
    "        #\n",
    "    def __ne__(self, q):\n",
    "        return not self.__eq__(q) # Not equal is the logical negation of equal\n",
    "        #\n",
    "    def __str__(self):\n",
    "        poly_print = \"\" # Building the printable string\n",
    "        n = len(self.key_list) # Number of distinct exponents\n",
    "        if n != 0:\n",
    "            for i in range(n):\n",
    "                key = self.key_list[i] # Current exponent\n",
    "                cons = self.poly_dict[key] # Current coefficient\n",
    "\n",
    "                if cons == 0: # might be unnecessary\n",
    "                    break # Skip remaining when a zero is encountered\n",
    "\n",
    "                if key == 0:\n",
    "                    var = str(abs(cons)) # Pure constant term\n",
    "                elif key == 1:\n",
    "                    var = str(abs(cons)) + \"x\" # Linear term\n",
    "                else:\n",
    "                    var = str(abs(cons)) + \"x^\" + str(key) # General term\n",
    "\n",
    "                if cons < 0 and i != 0:\n",
    "                    var = \" - \" + var # Negative sign for subsequent terms\n",
    "                elif cons > 0 and i != 0:\n",
    "                    var = \" + \" + var # Positive sign for subsequent terms\n",
    "                poly_print = poly_print + var # Appending this term to the output\n",
    "        if poly_print == \"\":\n",
    "            poly_print = \"0\" # Zero polynomial string\n",
    "        return str(poly_print) # Returning the final string\n",
    "        #\n",
    "    def __repr__(self):\n",
    "        return str(self) # Same text for interactive display"
   ],
   "id": "b791d6cd1dbbe59c",
   "outputs": [],
   "execution_count": 41
  },
  {
   "metadata": {
    "ExecuteTime": {
     "end_time": "2025-10-12T13:41:45.079119Z",
     "start_time": "2025-10-12T13:41:45.074352Z"
    }
   },
   "cell_type": "code",
   "source": [
    "a = [(1, 2), (3, 4), (5, 6), (7, 8)]\n",
    "b = [(9, 10), (11, 12), (13, 14), (15, 16)]\n",
    "for t1 in a:\n",
    "    for t2 in b:\n",
    "        pass\n"
   ],
   "id": "dddfbbe27258f8b6",
   "outputs": [
    {
     "data": {
      "text/plain": [
       "[(1, 2), (3, 4), (5, 6), (7, 8), (9, 10), (11, 12), (13, 14), (15, 16)]"
      ]
     },
     "execution_count": 2,
     "metadata": {},
     "output_type": "execute_result"
    }
   ],
   "execution_count": 2
  },
  {
   "metadata": {
    "ExecuteTime": {
     "end_time": "2025-10-12T14:29:55.756465Z",
     "start_time": "2025-10-12T14:29:55.749567Z"
    }
   },
   "cell_type": "code",
   "source": [
    "lst = [3,5,2,6,7,3,1]\n",
    "print(sorted(lst)[::-1])"
   ],
   "id": "692a836c35a9bb8b",
   "outputs": [
    {
     "name": "stdout",
     "output_type": "stream",
     "text": [
      "[7, 6, 5, 3, 3, 2, 1]\n"
     ]
    }
   ],
   "execution_count": 9
  },
  {
   "metadata": {
    "ExecuteTime": {
     "end_time": "2025-10-12T17:54:27.270307Z",
     "start_time": "2025-10-12T17:54:27.264342Z"
    }
   },
   "cell_type": "code",
   "source": [
    "p = Polynomial([(1, 0)])\n",
    "q = Polynomial([(1, 2)])\n",
    "r = Polynomial()\n",
    "s = Polynomial([(1, 1)])\n",
    "print(p.poly_dict)\n",
    "print(p.key_list)\n",
    "print(q.poly_dict)\n",
    "print(q.key_list)\n",
    "print(\"-------------------------\")\n",
    "print(p < q)\n",
    "print(p < r)\n",
    "print(p < s)\n",
    "print(q < r)\n",
    "print(q < s)\n",
    "print(r < s)"
   ],
   "id": "9931f607b24a73f8",
   "outputs": [
    {
     "name": "stdout",
     "output_type": "stream",
     "text": [
      "{0: 1}\n",
      "[0]\n",
      "{2: 1}\n",
      "[2]\n",
      "-------------------------\n",
      "True\n",
      "False\n",
      "True\n",
      "False\n",
      "False\n",
      "True\n"
     ]
    }
   ],
   "execution_count": 111
  },
  {
   "metadata": {
    "ExecuteTime": {
     "end_time": "2025-10-13T06:21:59.279002Z",
     "start_time": "2025-10-13T06:21:59.271551Z"
    }
   },
   "cell_type": "code",
   "source": [
    "# ----- Basic test setup -----\n",
    "p = Polynomial([(1, 0)])          # constant term 1\n",
    "q = Polynomial([(1, 2)])          # x^2\n",
    "r = Polynomial()                  # zero polynomial\n",
    "s = Polynomial([(1, 1)])          # x\n",
    "\n",
    "print(\"-------------------------\")\n",
    "\n",
    "# ----- Relational comparisons -----\n",
    "print(\"p < q :\", p < q)\n",
    "print(\"p < r :\", p < r)\n",
    "print(\"p < s :\", p < s)\n",
    "print(\"q < r :\", q < r)\n",
    "print(\"q < s :\", q < s)\n",
    "print(\"r < s :\", r < s)\n",
    "\n",
    "print(\"-------------------------\")\n",
    "\n",
    "# ----- Equality and inequality -----\n",
    "print(\"p == q :\", p == q)\n",
    "print(\"p == r :\", p == r)\n",
    "print(\"p != s :\", p != s)\n",
    "print(\"r == Polynomial() :\", r == Polynomial())\n",
    "\n",
    "print(\"-------------------------\")\n",
    "\n",
    "# ----- Arithmetic tests -----\n",
    "print(\"p + s :\", p + s)\n",
    "print(\"q - s :\", q - s)\n",
    "print(\"s * s :\", s * s)\n",
    "print(\"p + q :\", p + q)\n",
    "print(\"p - q :\", p - q)\n",
    "print(\"q * r :\", q * r)\n",
    "\n",
    "print(\"-------------------------\")\n",
    "\n",
    "# ----- Zero and negation checks -----\n",
    "print(\"Zero check for r:\", r.iszero())\n",
    "print(\"Negation of s:\", -s)\n",
    "print(\"s + (-s):\", s + (-s))\n",
    "print(\"Result should be zero polynomial -> iszero:\", (s + (-s)).iszero())"
   ],
   "id": "6d82a9fbb6d34c4f",
   "outputs": [
    {
     "name": "stdout",
     "output_type": "stream",
     "text": [
      "-------------------------\n",
      "p < q : True\n",
      "p < r : False\n",
      "p < s : True\n",
      "q < r : False\n",
      "q < s : False\n",
      "r < s : True\n",
      "-------------------------\n",
      "p == q : False\n",
      "p == r : False\n",
      "p != s : True\n",
      "r == Polynomial() : True\n",
      "-------------------------\n",
      "p + s : 1x + 1\n",
      "q - s : 1x^2 - 1x\n",
      "s * s : 1x^2\n",
      "p + q : 1x^2 + 1\n",
      "p - q : 1x^2 + 1\n",
      "q * r : 0\n",
      "-------------------------\n",
      "Zero check for r: True\n",
      "Negation of s: 1x\n",
      "s + (-s): 0\n",
      "Result should be zero polynomial -> iszero: True\n",
      "0\n"
     ]
    },
    {
     "data": {
      "text/plain": [
       "'0'"
      ]
     },
     "execution_count": 42,
     "metadata": {},
     "output_type": "execute_result"
    }
   ],
   "execution_count": 42
  },
  {
   "metadata": {
    "ExecuteTime": {
     "end_time": "2025-10-13T05:57:11.336397Z",
     "start_time": "2025-10-13T05:57:11.332984Z"
    }
   },
   "cell_type": "code",
   "source": [
    "p = Polynomial([(1, 2)])\n",
    "q = Polynomial([(-5, 0)])\n",
    "print(p != q)\n",
    "print(p > q)\n",
    "print(p >= q)\n",
    "print(p < q)\n",
    "print(p <= q)\n",
    "print(p == q)"
   ],
   "id": "9bf8717d1e857466",
   "outputs": [
    {
     "name": "stdout",
     "output_type": "stream",
     "text": [
      "True\n",
      "True\n",
      "True\n",
      "False\n",
      "False\n",
      "False\n"
     ]
    }
   ],
   "execution_count": 28
  },
  {
   "metadata": {
    "ExecuteTime": {
     "end_time": "2025-10-13T06:22:21.403864Z",
     "start_time": "2025-10-13T06:22:21.399977Z"
    }
   },
   "cell_type": "code",
   "source": [
    "lst = [Polynomial([(1, 0)]), Polynomial([(1, 2)]), Polynomial(), Polynomial([(1, 1)])]\n",
    "sorted_lst = sorted(lst)  # relies on __lt__\n",
    "# Highest exponent dominates, so order should be: 0, x, x^2, constant 1 or vice-versa?\n",
    "# Our ordering expects lexicographic descending by exponent when *comparing two polys*, but sorting uses ascending.\n",
    "# So expected ascending by that order: zero < 1 < x < x^2\n",
    "assert sorted_lst[0].iszero()\n",
    "assert sorted_lst[1] == Polynomial([(1, 0)])\n",
    "assert sorted_lst[2] == Polynomial([(1, 1)])\n",
    "assert sorted_lst[3] == Polynomial([(1, 2)])"
   ],
   "id": "854970856c85e2ba",
   "outputs": [],
   "execution_count": 45
  }
 ],
 "metadata": {
  "kernelspec": {
   "display_name": "Python 3",
   "language": "python",
   "name": "python3"
  },
  "language_info": {
   "codemirror_mode": {
    "name": "ipython",
    "version": 2
   },
   "file_extension": ".py",
   "mimetype": "text/x-python",
   "name": "python",
   "nbconvert_exporter": "python",
   "pygments_lexer": "ipython2",
   "version": "2.7.6"
  }
 },
 "nbformat": 4,
 "nbformat_minor": 5
}
